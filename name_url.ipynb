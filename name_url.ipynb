{
 "cells": [
  {
   "cell_type": "markdown",
   "id": "47735c10-e857-4962-941c-804e6d32e90a",
   "metadata": {},
   "source": [
    "## Script for Name and URL Gathering"
   ]
  },
  {
   "cell_type": "code",
   "execution_count": null,
   "id": "bbcb3d57-e2a3-4db9-b20b-bfec51cf08e6",
   "metadata": {},
   "outputs": [],
   "source": [
    "from selenium import webdriver\n",
    "from selenium.webdriver.common.keys import Keys\n",
    "from selenium.webdriver.common.by import By\n",
    "import time\n",
    "\n",
    "# Set up the web driver\n",
    "driver = webdriver.Chrome()\n",
    "\n",
    "companies = {}\n",
    "\n",
    "try:\n",
    "    # Open br.investing.com\n",
    "    driver.get(\"https://br.investing.com/equities/brazil\")\n",
    "\n",
    "    # Wait for the page to load\n",
    "    time.sleep(5)  \n",
    "\n",
    "    # Find all company elements\n",
    "    company_elements = driver.find_elements(By.XPATH, '//*[@id=\"__next\"]/div[2]/div[2]/div[2]/div[1]/div[4]/div[2]/div[1]/table/tbody/tr/td/div/a')\n",
    "    \n",
    "    texts = [element.text for element in company_elements]\n",
    "    print(texts)\n",
    "\n",
    "    urls = [element.get_attribute('href') for element in company_elements]\n",
    "    print(url)\n",
    "\n",
    "    companies = {texts[i]: urls[i] for i in range(len(texts))}\n",
    "    print(companies)\n",
    "\n",
    "        \n",
    "\n",
    "finally:\n",
    "    # Close the web driver\n",
    "    time.sleep(2)\n",
    "    driver.quit()"
   ]
  },
  {
   "cell_type": "markdown",
   "id": "3c6663bf-fac1-4cca-b5a5-73c5249a694b",
   "metadata": {},
   "source": [
    "*Data was then formatted using a JSON formatter which can be easily found online*"
   ]
  }
 ],
 "metadata": {
  "kernelspec": {
   "display_name": "Python 3 (ipykernel)",
   "language": "python",
   "name": "python3"
  },
  "language_info": {
   "codemirror_mode": {
    "name": "ipython",
    "version": 3
   },
   "file_extension": ".py",
   "mimetype": "text/x-python",
   "name": "python",
   "nbconvert_exporter": "python",
   "pygments_lexer": "ipython3",
   "version": "3.11.7"
  }
 },
 "nbformat": 4,
 "nbformat_minor": 5
}
